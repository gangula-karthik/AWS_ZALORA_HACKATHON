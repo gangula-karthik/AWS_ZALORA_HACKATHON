{
 "cells": [
  {
   "cell_type": "code",
   "execution_count": 2,
   "metadata": {},
   "outputs": [],
   "source": [
    "# !pip install mediapipe\n",
    "import mediapipe as mp\n",
    "import cv2\n",
    "import json"
   ]
  },
  {
   "cell_type": "code",
   "execution_count": 3,
   "metadata": {},
   "outputs": [
    {
     "name": "stderr",
     "output_type": "stream",
     "text": [
      "INFO: Created TensorFlow Lite XNNPACK delegate for CPU.\n"
     ]
    },
    {
     "ename": "KeyboardInterrupt",
     "evalue": "",
     "output_type": "error",
     "traceback": [
      "\u001b[0;31m---------------------------------------------------------------------------\u001b[0m",
      "\u001b[0;31mKeyboardInterrupt\u001b[0m                         Traceback (most recent call last)",
      "\u001b[1;32m/Users/daaa/Documents/shoe_size_detector/shoeSize.ipynb Cell 2\u001b[0m in \u001b[0;36m1\n\u001b[1;32m      <a href='vscode-notebook-cell:/Users/daaa/Documents/shoe_size_detector/shoeSize.ipynb#W1sZmlsZQ%3D%3D?line=6'>7</a>\u001b[0m \u001b[39mwith\u001b[39;00m mp_objectron\u001b[39m.\u001b[39mObjectron(static_image_mode\u001b[39m=\u001b[39m\u001b[39mFalse\u001b[39;00m,\n\u001b[1;32m      <a href='vscode-notebook-cell:/Users/daaa/Documents/shoe_size_detector/shoeSize.ipynb#W1sZmlsZQ%3D%3D?line=7'>8</a>\u001b[0m                             max_num_objects\u001b[39m=\u001b[39m\u001b[39m1\u001b[39m,\n\u001b[1;32m      <a href='vscode-notebook-cell:/Users/daaa/Documents/shoe_size_detector/shoeSize.ipynb#W1sZmlsZQ%3D%3D?line=8'>9</a>\u001b[0m                             min_detection_confidence\u001b[39m=\u001b[39m\u001b[39m0.5\u001b[39m,\n\u001b[1;32m     <a href='vscode-notebook-cell:/Users/daaa/Documents/shoe_size_detector/shoeSize.ipynb#W1sZmlsZQ%3D%3D?line=9'>10</a>\u001b[0m                             min_tracking_confidence\u001b[39m=\u001b[39m\u001b[39m0.99\u001b[39m,\n\u001b[1;32m     <a href='vscode-notebook-cell:/Users/daaa/Documents/shoe_size_detector/shoeSize.ipynb#W1sZmlsZQ%3D%3D?line=10'>11</a>\u001b[0m                             model_name\u001b[39m=\u001b[39m\u001b[39m'\u001b[39m\u001b[39mShoe\u001b[39m\u001b[39m'\u001b[39m) \u001b[39mas\u001b[39;00m objectron:\n\u001b[1;32m     <a href='vscode-notebook-cell:/Users/daaa/Documents/shoe_size_detector/shoeSize.ipynb#W1sZmlsZQ%3D%3D?line=11'>12</a>\u001b[0m   \u001b[39mwhile\u001b[39;00m cap\u001b[39m.\u001b[39misOpened():\n\u001b[0;32m---> <a href='vscode-notebook-cell:/Users/daaa/Documents/shoe_size_detector/shoeSize.ipynb#W1sZmlsZQ%3D%3D?line=12'>13</a>\u001b[0m     success, image \u001b[39m=\u001b[39m cap\u001b[39m.\u001b[39;49mread()\n\u001b[1;32m     <a href='vscode-notebook-cell:/Users/daaa/Documents/shoe_size_detector/shoeSize.ipynb#W1sZmlsZQ%3D%3D?line=13'>14</a>\u001b[0m     \u001b[39mif\u001b[39;00m \u001b[39mnot\u001b[39;00m success:\n\u001b[1;32m     <a href='vscode-notebook-cell:/Users/daaa/Documents/shoe_size_detector/shoeSize.ipynb#W1sZmlsZQ%3D%3D?line=14'>15</a>\u001b[0m       \u001b[39mprint\u001b[39m(\u001b[39m\"\u001b[39m\u001b[39mIgnoring empty camera frame.\u001b[39m\u001b[39m\"\u001b[39m)\n",
      "\u001b[0;31mKeyboardInterrupt\u001b[0m: "
     ]
    }
   ],
   "source": [
    "mp_drawing = mp.solutions.drawing_utils\n",
    "mp_objectron = mp.solutions.objectron\n",
    "\n",
    "\n",
    "# For webcam input:\n",
    "cap = cv2.VideoCapture(0)\n",
    "with mp_objectron.Objectron(static_image_mode=False,\n",
    "                            max_num_objects=1,\n",
    "                            min_detection_confidence=0.5,\n",
    "                            min_tracking_confidence=0.99,\n",
    "                            model_name='Shoe') as objectron:\n",
    "  while cap.isOpened():\n",
    "    success, image = cap.read()\n",
    "    if not success:\n",
    "      print(\"Ignoring empty camera frame.\")\n",
    "      # If loading a video, use 'break' instead of 'continue'.\n",
    "      break\n",
    "      #continue\n",
    "\n",
    "    # To improve performance, optionally mark the image as not writeable to\n",
    "    # pass by reference.\n",
    "    image.flags.writeable = False\n",
    "    image = cv2.cvtColor(image, cv2.COLOR_BGR2RGB)\n",
    "    results = objectron.process(image)\n",
    "\n",
    "    # Draw the box landmarks on the image.\n",
    "    image.flags.writeable = True\n",
    "    image = cv2.cvtColor(image, cv2.COLOR_RGB2BGR)\n",
    "    if results.detected_objects:\n",
    "        for detected_object in results.detected_objects:\n",
    "            mp_drawing.draw_landmarks(\n",
    "              image, detected_object.landmarks_2d, mp_objectron.BOX_CONNECTIONS)\n",
    "            x = detected_object.landmarks_3d\n",
    "            mp_drawing.draw_axis(image, detected_object.rotation,\n",
    "                                 detected_object.translation)\n",
    "    # Flip the image horizontally for a selfie-view display.\n",
    "    cv2.imshow('MediaPipe Objectron', cv2.flip(image, 1))\n",
    "    if cv2.waitKey(5) & 0xFF == 27:\n",
    "      break\n",
    "cap.release()"
   ]
  },
  {
   "cell_type": "code",
   "execution_count": 4,
   "metadata": {},
   "outputs": [
    {
     "name": "stdout",
     "output_type": "stream",
     "text": [
      "landmark {\n",
      "  x: 0.13762123882770538\n",
      "  y: -0.20445780456066132\n",
      "  z: -0.4103344678878784\n",
      "}\n",
      "landmark {\n",
      "  x: 0.0026300549507141113\n",
      "  y: -0.266712486743927\n",
      "  z: -0.36356672644615173\n",
      "}\n",
      "landmark {\n",
      "  x: 0.26537197828292847\n",
      "  y: -0.3553876578807831\n",
      "  z: -0.40796008706092834\n",
      "}\n",
      "landmark {\n",
      "  x: 0.0057701170444488525\n",
      "  y: -0.043025821447372437\n",
      "  z: -0.34593501687049866\n",
      "}\n",
      "landmark {\n",
      "  x: 0.2685120105743408\n",
      "  y: -0.13170099258422852\n",
      "  z: -0.39032837748527527\n",
      "}\n",
      "landmark {\n",
      "  x: 0.006730437278747559\n",
      "  y: -0.27721458673477173\n",
      "  z: -0.43034061789512634\n",
      "}\n",
      "landmark {\n",
      "  x: 0.2694723606109619\n",
      "  y: -0.3658897876739502\n",
      "  z: -0.4747339189052582\n",
      "}\n",
      "landmark {\n",
      "  x: 0.0098704993724823\n",
      "  y: -0.05352795124053955\n",
      "  z: -0.4127088487148285\n",
      "}\n",
      "landmark {\n",
      "  x: 0.27261239290237427\n",
      "  y: -0.14220312237739563\n",
      "  z: -0.4571022093296051\n",
      "}\n",
      "\n"
     ]
    }
   ],
   "source": [
    "# getting the coordinates of the landmarks\n",
    "print(x)"
   ]
  },
  {
   "cell_type": "code",
   "execution_count": 24,
   "metadata": {},
   "outputs": [
    {
     "name": "stdout",
     "output_type": "stream",
     "text": [
      "[{'x': -0.4103344678878784, 'y': -0.20445780456066132, 'z': -0.4103344678878784}, {'x': -0.36356672644615173, 'y': -0.266712486743927, 'z': -0.36356672644615173}, {'x': -0.40796008706092834, 'y': -0.3553876578807831, 'z': -0.40796008706092834}, {'x': -0.34593501687049866, 'y': -0.043025821447372437, 'z': -0.34593501687049866}, {'x': -0.39032837748527527, 'y': -0.13170099258422852, 'z': -0.39032837748527527}, {'x': -0.43034061789512634, 'y': -0.27721458673477173, 'z': -0.43034061789512634}, {'x': -0.4747339189052582, 'y': -0.3658897876739502, 'z': -0.4747339189052582}, {'x': -0.4127088487148285, 'y': -0.05352795124053955, 'z': -0.4127088487148285}, {'x': -0.4571022093296051, 'y': -0.14220312237739563, 'z': -0.4571022093296051}]\n"
     ]
    }
   ],
   "source": [
    "landmarks_list = []\n",
    "for i in range(9):\n",
    "    landmarks_list.append({\"x\": x.landmark[i].z, \"y\": x.landmark[i].y, \"z\": x.landmark[i].z})\n",
    "\n",
    "print(landmarks_list)"
   ]
  },
  {
   "cell_type": "code",
   "execution_count": 26,
   "metadata": {},
   "outputs": [
    {
     "name": "stdout",
     "output_type": "stream",
     "text": [
      "Width: 0.12879890203475952, Height: 0.32286396622657776, Depth: 0.12879890203475952\n"
     ]
    }
   ],
   "source": [
    "xs = [landmark[\"x\"] for landmark in landmarks_list]\n",
    "ys = [landmark[\"y\"] for landmark in landmarks_list]\n",
    "zs = [landmark[\"z\"] for landmark in landmarks_list]\n",
    "\n",
    "width = max(xs) - min(xs)\n",
    "height = max(ys) - min(ys)\n",
    "depth = max(zs) - min(zs)\n",
    "\n",
    "print(f\"Width: {width}, Height: {height}, Depth: {depth}\") #normalized"
   ]
  }
 ],
 "metadata": {
  "kernelspec": {
   "display_name": "Python 3.9.7",
   "language": "python",
   "name": "python3"
  },
  "language_info": {
   "codemirror_mode": {
    "name": "ipython",
    "version": 3
   },
   "file_extension": ".py",
   "mimetype": "text/x-python",
   "name": "python",
   "nbconvert_exporter": "python",
   "pygments_lexer": "ipython3",
   "version": "3.9.13"
  },
  "orig_nbformat": 4,
  "vscode": {
   "interpreter": {
    "hash": "8bf1fe9a3ab8e659e9d2f31b4e1a55b994401df1c01ccad9f8ef69cd47c13f43"
   }
  }
 },
 "nbformat": 4,
 "nbformat_minor": 2
}
